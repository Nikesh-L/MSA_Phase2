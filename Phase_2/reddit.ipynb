{
 "cells": [
  {
   "cell_type": "code",
   "execution_count": 2,
   "metadata": {},
   "outputs": [
    {
     "name": "stdout",
     "output_type": "stream",
     "text": [
      "Collecting praw\n",
      "  Downloading praw-7.1.0-py3-none-any.whl (152 kB)\n",
      "\u001b[K     |████████████████████████████████| 152 kB 4.1 MB/s eta 0:00:01\n",
      "\u001b[?25hCollecting update-checker>=0.17\n",
      "  Downloading update_checker-0.18.0-py3-none-any.whl (7.0 kB)\n",
      "Collecting prawcore<2.0,>=1.3.0\n",
      "  Downloading prawcore-1.5.0-py3-none-any.whl (15 kB)\n",
      "Collecting websocket-client>=0.54.0\n",
      "  Downloading websocket_client-0.57.0-py2.py3-none-any.whl (200 kB)\n",
      "\u001b[K     |████████████████████████████████| 200 kB 15.3 MB/s eta 0:00:01\n",
      "\u001b[?25hRequirement already satisfied: requests>=2.3.0 in /opt/anaconda3/lib/python3.7/site-packages (from update-checker>=0.17->praw) (2.22.0)\n",
      "Requirement already satisfied: six in /opt/anaconda3/lib/python3.7/site-packages (from websocket-client>=0.54.0->praw) (1.14.0)\n",
      "Requirement already satisfied: idna<2.9,>=2.5 in /opt/anaconda3/lib/python3.7/site-packages (from requests>=2.3.0->update-checker>=0.17->praw) (2.8)\n",
      "Requirement already satisfied: urllib3!=1.25.0,!=1.25.1,<1.26,>=1.21.1 in /opt/anaconda3/lib/python3.7/site-packages (from requests>=2.3.0->update-checker>=0.17->praw) (1.25.8)\n",
      "Requirement already satisfied: chardet<3.1.0,>=3.0.2 in /opt/anaconda3/lib/python3.7/site-packages (from requests>=2.3.0->update-checker>=0.17->praw) (3.0.4)\n",
      "Requirement already satisfied: certifi>=2017.4.17 in /opt/anaconda3/lib/python3.7/site-packages (from requests>=2.3.0->update-checker>=0.17->praw) (2019.11.28)\n",
      "Installing collected packages: update-checker, prawcore, websocket-client, praw\n",
      "Successfully installed praw-7.1.0 prawcore-1.5.0 update-checker-0.18.0 websocket-client-0.57.0\n"
     ]
    }
   ],
   "source": [
    "import sys\n",
    "!{sys.executable} -m pip install praw"
   ]
  },
  {
   "cell_type": "code",
   "execution_count": 4,
   "metadata": {},
   "outputs": [],
   "source": [
    "import datetime\n",
    "\n",
    "import praw\n",
    "import pandas as pd\n",
    "\n",
    "from keys import client_id, client_secret\n"
   ]
  },
  {
   "cell_type": "code",
   "execution_count": 5,
   "metadata": {},
   "outputs": [],
   "source": [
    "reddit = praw.Reddit( client_id=client_id,\n",
    "                      client_secret=client_secret,\n",
    "                      user_agent='android:my_app:v1 (by /u/Agreeable_Sky4093)')"
   ]
  },
  {
   "cell_type": "code",
   "execution_count": 6,
   "metadata": {},
   "outputs": [],
   "source": [
    "chelsea = reddit.subreddit('ChelseaFC')\n",
    "\n",
    "#Gathering the top 500 posts, with their title, url, body, upvotes, timestamp, and an index that serves as a key between the\n",
    "#posts and the comments we collect later\n",
    "posts = []\n",
    "for index, post in enumerate(chelsea.top(limit=500)):\n",
    "    posts.append([post.title, \"https://www.reddit.com\" + post.permalink, post.selftext, post.score, post.created_utc, index])\n",
    "\n",
    "#Converting into DataFrame\n",
    "posts = pd.DataFrame(posts, columns=['Title', 'URL', 'Body', 'Upvotes', 'Time', 'Key'])\n",
    "#Changing from utc time to standard timestamp\n",
    "posts.Time = posts.Time.apply(lambda x: pd.to_datetime(datetime.datetime.fromtimestamp(x)))\n",
    "\n",
    "#The first post is a sticky, so we can drop it\n",
    "posts = posts.iloc[1:]"
   ]
  },
  {
   "cell_type": "code",
   "execution_count": 7,
   "metadata": {},
   "outputs": [
    {
     "data": {
      "text/html": [
       "<div>\n",
       "<style scoped>\n",
       "    .dataframe tbody tr th:only-of-type {\n",
       "        vertical-align: middle;\n",
       "    }\n",
       "\n",
       "    .dataframe tbody tr th {\n",
       "        vertical-align: top;\n",
       "    }\n",
       "\n",
       "    .dataframe thead th {\n",
       "        text-align: right;\n",
       "    }\n",
       "</style>\n",
       "<table border=\"1\" class=\"dataframe\">\n",
       "  <thead>\n",
       "    <tr style=\"text-align: right;\">\n",
       "      <th></th>\n",
       "      <th>Title</th>\n",
       "      <th>URL</th>\n",
       "      <th>Body</th>\n",
       "      <th>Upvotes</th>\n",
       "      <th>Time</th>\n",
       "      <th>Key</th>\n",
       "    </tr>\n",
       "  </thead>\n",
       "  <tbody>\n",
       "    <tr>\n",
       "      <th>1</th>\n",
       "      <td>Thank you, Eden.</td>\n",
       "      <td>https://www.reddit.com/r/chelseafc/comments/bu...</td>\n",
       "      <td></td>\n",
       "      <td>6157</td>\n",
       "      <td>2019-05-30 08:57:30</td>\n",
       "      <td>1</td>\n",
       "    </tr>\n",
       "    <tr>\n",
       "      <th>2</th>\n",
       "      <td>Courtois now having his medical at Madrid!</td>\n",
       "      <td>https://www.reddit.com/r/chelseafc/comments/95...</td>\n",
       "      <td></td>\n",
       "      <td>5975</td>\n",
       "      <td>2018-08-08 22:33:45</td>\n",
       "      <td>2</td>\n",
       "    </tr>\n",
       "    <tr>\n",
       "      <th>3</th>\n",
       "      <td>This man has gone toe to toe with the very bes...</td>\n",
       "      <td>https://www.reddit.com/r/chelseafc/comments/hf...</td>\n",
       "      <td></td>\n",
       "      <td>5526</td>\n",
       "      <td>2020-06-26 09:33:52</td>\n",
       "      <td>3</td>\n",
       "    </tr>\n",
       "  </tbody>\n",
       "</table>\n",
       "</div>"
      ],
      "text/plain": [
       "                                               Title  \\\n",
       "1                                   Thank you, Eden.   \n",
       "2         Courtois now having his medical at Madrid!   \n",
       "3  This man has gone toe to toe with the very bes...   \n",
       "\n",
       "                                                 URL Body  Upvotes  \\\n",
       "1  https://www.reddit.com/r/chelseafc/comments/bu...          6157   \n",
       "2  https://www.reddit.com/r/chelseafc/comments/95...          5975   \n",
       "3  https://www.reddit.com/r/chelseafc/comments/hf...          5526   \n",
       "\n",
       "                 Time  Key  \n",
       "1 2019-05-30 08:57:30    1  \n",
       "2 2018-08-08 22:33:45    2  \n",
       "3 2020-06-26 09:33:52    3  "
      ]
     },
     "execution_count": 7,
     "metadata": {},
     "output_type": "execute_result"
    }
   ],
   "source": [
    "posts.head(3)"
   ]
  },
  {
   "cell_type": "code",
   "execution_count": 8,
   "metadata": {},
   "outputs": [
    {
     "data": {
      "text/plain": [
       "(499, 6)"
      ]
     },
     "execution_count": 8,
     "metadata": {},
     "output_type": "execute_result"
    }
   ],
   "source": [
    "posts.shape"
   ]
  },
  {
   "cell_type": "code",
   "execution_count": 9,
   "metadata": {},
   "outputs": [],
   "source": [
    "def collect_replies(key, url):\n",
    "    ''' \n",
    "    params pandas series row: each row of the dataframe we built above in the form of a panda series\n",
    "    Returns a pandas DataFrame, where each row represents an individual comment\n",
    "    '''\n",
    "    submission = reddit.submission(url=url)\n",
    "    submission.comments.replace_more(limit=None)\n",
    "    comment_queue = submission.comments[:] \n",
    "\n",
    "    table = {'Reply':[], 'Upvote':[], 'Time':[], 'Key':[]}\n",
    "\n",
    "    while comment_queue:\n",
    "        comment = comment_queue.pop(0)\n",
    "        table['Reply'].append(comment.body)\n",
    "        table['Time'].append(comment.created_utc)\n",
    "        table['Upvote'].append(comment.score)\n",
    "        table['Key'].append(key)\n",
    "        comment_queue.extend(comment.replies)\n",
    "    \n",
    "    return pd.DataFrame.from_dict(table)"
   ]
  },
  {
   "cell_type": "code",
   "execution_count": 10,
   "metadata": {},
   "outputs": [],
   "source": [
    "#Let us first generate a list of tupules that contains the key and url for each row - the first value of the tupule is key,\n",
    "#and the second value is url\n",
    "keys = posts.Key.tolist()\n",
    "urls = posts.URL.tolist()\n",
    "tupules = list(zip(keys, urls))\n",
    "\n",
    "#Now we generate our comments dataframe using list comprehensions!\n",
    "comments = pd.concat([collect_replies(x[0], x[1]) for x in tupules])"
   ]
  },
  {
   "cell_type": "code",
   "execution_count": 11,
   "metadata": {},
   "outputs": [],
   "source": [
    "#Again, converting the timestamp from utc to a standard format\n",
    "comments.Time = comments.Time.apply(lambda x: pd.to_datetime(datetime.datetime.fromtimestamp(x)))"
   ]
  },
  {
   "cell_type": "code",
   "execution_count": 12,
   "metadata": {},
   "outputs": [
    {
     "data": {
      "text/plain": [
       "(48699, 4)"
      ]
     },
     "execution_count": 12,
     "metadata": {},
     "output_type": "execute_result"
    }
   ],
   "source": [
    "comments.shape\n"
   ]
  },
  {
   "cell_type": "code",
   "execution_count": 15,
   "metadata": {},
   "outputs": [],
   "source": [
    "#comments.to_csv('Comments_.csv', index=False)"
   ]
  },
  {
   "cell_type": "code",
   "execution_count": 16,
   "metadata": {},
   "outputs": [],
   "source": [
    "#posts.to_csv('Posts.csv', index=False)"
   ]
  },
  {
   "cell_type": "code",
   "execution_count": null,
   "metadata": {},
   "outputs": [],
   "source": []
  }
 ],
 "metadata": {
  "kernelspec": {
   "display_name": "Python 3",
   "language": "python",
   "name": "python3"
  },
  "language_info": {
   "codemirror_mode": {
    "name": "ipython",
    "version": 3
   },
   "file_extension": ".py",
   "mimetype": "text/x-python",
   "name": "python",
   "nbconvert_exporter": "python",
   "pygments_lexer": "ipython3",
   "version": "3.7.6"
  }
 },
 "nbformat": 4,
 "nbformat_minor": 4
}
