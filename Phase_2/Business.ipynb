{
 "cells": [
  {
   "cell_type": "code",
   "execution_count": 1007,
   "metadata": {
    "scrolled": true
   },
   "outputs": [
    {
     "name": "stderr",
     "output_type": "stream",
     "text": [
      "[nltk_data] Error loading nltk: Package 'nltk' not found in index\n"
     ]
    },
    {
     "data": {
      "text/plain": [
       "False"
      ]
     },
     "execution_count": 1007,
     "metadata": {},
     "output_type": "execute_result"
    }
   ],
   "source": [
    "import re\n",
    "\n",
    "import pandas as pd\n",
    "import nltk\n",
    "#window will open -> models -> punkt\n",
    "nltk.download('nltk')"
   ]
  },
  {
   "cell_type": "code",
   "execution_count": 1008,
   "metadata": {},
   "outputs": [
    {
     "name": "stdout",
     "output_type": "stream",
     "text": [
      "[('\\u200d', '♂'), ('⠳', '⢤'), ('в', 'о'), ('г', 'о'), ('о', 'в'), ('о', 'р'), ('🍻', '🍻'), ('\\U0001f9ca', '\\U0001f9ca'), ('и', 'л'), ('и', 'м')]\n"
     ]
    }
   ],
   "source": [
    "from nltk.collocations import *\n",
    "\n",
    "bigram_measures = nltk.collocations.BigramAssocMeasures()\n",
    "\n",
    "finder = BigramCollocationFinder.from_words(sample)\n",
    "\n",
    "# only bigrams that appear 2+ times\n",
    "finder.apply_freq_filter(2) \n",
    "\n",
    "# return the 10 n-grams with the highest PMI\n",
    "print (finder.nbest(bigram_measures.pmi, 10))"
   ]
  },
  {
   "cell_type": "code",
   "execution_count": 1009,
   "metadata": {},
   "outputs": [
    {
     "name": "stdout",
     "output_type": "stream",
     "text": [
      "[('provides', 'downloadable'), ('🎉', '🎉'), ('via', 'reddit.tube'), ('West', 'Ham'), ('release', 'clause'), ('Bill', 'Gates'), ('helps', 'downloading'), ('SUPER', 'FRANK'), ('HHHH', 'B'), ('social', 'media')]\n"
     ]
    }
   ],
   "source": [
    "def common_bigrams(tokenized_text, min_freq, top_n):\n",
    "    bigram_measures = nltk.collocations.BigramAssocMeasures()\n",
    "    finder = BigramCollocationFinder.from_words(tokenized_text)\n",
    "    finder.apply_freq_filter(min_freq) \n",
    "    finder.nbest(bigram_measures.pmi, top_n)\n",
    "    return finder.nbest(bigram_measures.pmi, top_n)\n",
    "\n",
    "print(common_bigrams(all_text, 10, 10)) # top 10 bigrams"
   ]
  },
  {
   "cell_type": "markdown",
   "metadata": {},
   "source": [
    "Wordcloud"
   ]
  },
  {
   "cell_type": "code",
   "execution_count": 1010,
   "metadata": {},
   "outputs": [
    {
     "name": "stdout",
     "output_type": "stream",
     "text": [
      "Requirement already satisfied: wordcloud in /opt/anaconda3/lib/python3.7/site-packages (1.8.0)\n",
      "Requirement already satisfied: matplotlib in /opt/anaconda3/lib/python3.7/site-packages (from wordcloud) (3.1.3)\n",
      "Requirement already satisfied: numpy>=1.6.1 in /opt/anaconda3/lib/python3.7/site-packages (from wordcloud) (1.18.1)\n",
      "Requirement already satisfied: pillow in /opt/anaconda3/lib/python3.7/site-packages (from wordcloud) (7.0.0)\n",
      "Requirement already satisfied: cycler>=0.10 in /opt/anaconda3/lib/python3.7/site-packages (from matplotlib->wordcloud) (0.10.0)\n",
      "Requirement already satisfied: python-dateutil>=2.1 in /opt/anaconda3/lib/python3.7/site-packages (from matplotlib->wordcloud) (2.8.1)\n",
      "Requirement already satisfied: pyparsing!=2.0.4,!=2.1.2,!=2.1.6,>=2.0.1 in /opt/anaconda3/lib/python3.7/site-packages (from matplotlib->wordcloud) (2.4.6)\n",
      "Requirement already satisfied: kiwisolver>=1.0.1 in /opt/anaconda3/lib/python3.7/site-packages (from matplotlib->wordcloud) (1.1.0)\n",
      "Requirement already satisfied: six in /opt/anaconda3/lib/python3.7/site-packages (from cycler>=0.10->matplotlib->wordcloud) (1.14.0)\n",
      "Requirement already satisfied: setuptools in /opt/anaconda3/lib/python3.7/site-packages (from kiwisolver>=1.0.1->matplotlib->wordcloud) (45.2.0.post20200210)\n"
     ]
    }
   ],
   "source": [
    "#install wordcloud into the current path\n",
    "import sys\n",
    "!{sys.executable} -m pip install wordcloud"
   ]
  },
  {
   "cell_type": "code",
   "execution_count": 1011,
   "metadata": {},
   "outputs": [],
   "source": [
    "import wordcloud\n",
    "from wordcloud import WordCloud, STOPWORDS\n",
    "import matplotlib.pyplot as plt\n",
    "\n",
    "sample = comments.iloc[:10000,:].Reply.str.cat(sep='. ')"
   ]
  },
  {
   "cell_type": "code",
   "execution_count": 1012,
   "metadata": {},
   "outputs": [],
   "source": [
    "import random\n",
    "def grey_color_func(word, font_size, position, orientation, random_state=None, **kwargs):\n",
    "    return \"hsl(0, 0%%, %d%%)\" % random.randint(1, 20)"
   ]
  },
  {
   "cell_type": "markdown",
   "metadata": {},
   "source": [
    "# Training the Classifier"
   ]
  },
  {
   "cell_type": "code",
   "execution_count": 1013,
   "metadata": {},
   "outputs": [],
   "source": [
    "data = pd.read_csv('train.csv')"
   ]
  },
  {
   "cell_type": "code",
   "execution_count": 1014,
   "metadata": {},
   "outputs": [
    {
     "data": {
      "text/html": [
       "<div>\n",
       "<style scoped>\n",
       "    .dataframe tbody tr th:only-of-type {\n",
       "        vertical-align: middle;\n",
       "    }\n",
       "\n",
       "    .dataframe tbody tr th {\n",
       "        vertical-align: top;\n",
       "    }\n",
       "\n",
       "    .dataframe thead th {\n",
       "        text-align: right;\n",
       "    }\n",
       "</style>\n",
       "<table border=\"1\" class=\"dataframe\">\n",
       "  <thead>\n",
       "    <tr style=\"text-align: right;\">\n",
       "      <th></th>\n",
       "      <th>textID</th>\n",
       "      <th>text</th>\n",
       "      <th>sentiment</th>\n",
       "    </tr>\n",
       "  </thead>\n",
       "  <tbody>\n",
       "    <tr>\n",
       "      <th>0</th>\n",
       "      <td>cb774db0d1</td>\n",
       "      <td>I`d have responded, if I were going</td>\n",
       "      <td>neutral</td>\n",
       "    </tr>\n",
       "    <tr>\n",
       "      <th>1</th>\n",
       "      <td>549e992a42</td>\n",
       "      <td>Sooo SAD I will miss you here in San Diego!!!</td>\n",
       "      <td>negative</td>\n",
       "    </tr>\n",
       "    <tr>\n",
       "      <th>2</th>\n",
       "      <td>088c60f138</td>\n",
       "      <td>my boss is bullying me...</td>\n",
       "      <td>negative</td>\n",
       "    </tr>\n",
       "    <tr>\n",
       "      <th>3</th>\n",
       "      <td>9642c003ef</td>\n",
       "      <td>what interview! leave me alone</td>\n",
       "      <td>negative</td>\n",
       "    </tr>\n",
       "    <tr>\n",
       "      <th>4</th>\n",
       "      <td>358bd9e861</td>\n",
       "      <td>Sons of ****, why couldn`t they put them on t...</td>\n",
       "      <td>negative</td>\n",
       "    </tr>\n",
       "  </tbody>\n",
       "</table>\n",
       "</div>"
      ],
      "text/plain": [
       "       textID                                               text sentiment\n",
       "0  cb774db0d1                I`d have responded, if I were going   neutral\n",
       "1  549e992a42      Sooo SAD I will miss you here in San Diego!!!  negative\n",
       "2  088c60f138                          my boss is bullying me...  negative\n",
       "3  9642c003ef                     what interview! leave me alone  negative\n",
       "4  358bd9e861   Sons of ****, why couldn`t they put them on t...  negative"
      ]
     },
     "execution_count": 1014,
     "metadata": {},
     "output_type": "execute_result"
    }
   ],
   "source": [
    "data.head()"
   ]
  },
  {
   "cell_type": "code",
   "execution_count": 1015,
   "metadata": {},
   "outputs": [
    {
     "data": {
      "text/plain": [
       "(27481, 3)"
      ]
     },
     "execution_count": 1015,
     "metadata": {},
     "output_type": "execute_result"
    }
   ],
   "source": [
    "data.shape"
   ]
  },
  {
   "cell_type": "code",
   "execution_count": 1016,
   "metadata": {},
   "outputs": [
    {
     "data": {
      "text/plain": [
       "(27480, 3)"
      ]
     },
     "execution_count": 1016,
     "metadata": {},
     "output_type": "execute_result"
    }
   ],
   "source": [
    "#remove any rows with empty values in the text column\n",
    "data.dropna(subset=['text'], inplace=True)\n",
    "\n",
    "#check the shape\n",
    "data.shape"
   ]
  },
  {
   "cell_type": "code",
   "execution_count": 1017,
   "metadata": {},
   "outputs": [
    {
     "name": "stderr",
     "output_type": "stream",
     "text": [
      "[nltk_data] Downloading package stopwords to\n",
      "[nltk_data]     /Users/nikesh/nltk_data...\n",
      "[nltk_data]   Package stopwords is already up-to-date!\n"
     ]
    },
    {
     "data": {
      "text/plain": [
       "True"
      ]
     },
     "execution_count": 1017,
     "metadata": {},
     "output_type": "execute_result"
    }
   ],
   "source": [
    "#download the stopwords package\n",
    "nltk.download('stopwords')"
   ]
  },
  {
   "cell_type": "code",
   "execution_count": 1018,
   "metadata": {},
   "outputs": [],
   "source": [
    "#remove punctuation \n",
    "data.text = data.text.apply(lambda x: re.sub(r'[^\\w\\s]', '', x))"
   ]
  },
  {
   "cell_type": "code",
   "execution_count": 1019,
   "metadata": {},
   "outputs": [],
   "source": [
    "#Remove stopwords from the text which cannot provide any information since we cannot infer their sentiment\n",
    "from nltk.corpus import stopwords\n",
    "stopwords = stopwords.words('english')\n",
    "newStopWords = ['im', 'the', 'got', 'go', 'want', 'oh', 'week', 'hour', 'see', 'still', 'say', 'today', 'day', 'going',\n",
    "               'one', 'right', 'twitter', 'tomorrow']\n",
    "stopwords.extend(newStopWords)\n",
    "data.text = data.text.apply(lambda x: ' '.join([word for word in nltk.word_tokenize(x) if word.lower() not in stopwords]))"
   ]
  },
  {
   "cell_type": "code",
   "execution_count": 1020,
   "metadata": {},
   "outputs": [],
   "source": [
    "#remove any supplied links to text columns\n",
    "data.text = data.text.apply(lambda x: re.sub(r'\\(?http\\S+', '', x))"
   ]
  },
  {
   "cell_type": "code",
   "execution_count": 1021,
   "metadata": {},
   "outputs": [],
   "source": [
    "#remove unicode\n",
    "data.text = data.text.apply(lambda x: re.sub(r'[^\\x00-\\x7F]+',' ', x))"
   ]
  },
  {
   "cell_type": "code",
   "execution_count": 1022,
   "metadata": {},
   "outputs": [],
   "source": [
    "#remove any escape sequences\n",
    "data.text = data.text.apply(lambda x: re.sub(r'[\\n\\r\\t]', '', x))"
   ]
  },
  {
   "cell_type": "code",
   "execution_count": 1023,
   "metadata": {},
   "outputs": [],
   "source": [
    "#remove starting and traling whitespace characters\n",
    "data.text = data.text.apply(lambda x: re.sub(r'^[ \\t]+|[ \\t]+$', '', x) )"
   ]
  },
  {
   "cell_type": "code",
   "execution_count": 1024,
   "metadata": {},
   "outputs": [
    {
     "data": {
      "text/plain": [
       "(27480, 3)"
      ]
     },
     "execution_count": 1024,
     "metadata": {},
     "output_type": "execute_result"
    }
   ],
   "source": [
    "#Since we are removing words from rows we shoudl check again for any \n",
    "#new rows that soleely consisted of links or stopwords and are now empty\n",
    "data.shape"
   ]
  },
  {
   "cell_type": "code",
   "execution_count": 1025,
   "metadata": {},
   "outputs": [
    {
     "data": {
      "text/plain": [
       "(27480, 3)"
      ]
     },
     "execution_count": 1025,
     "metadata": {},
     "output_type": "execute_result"
    }
   ],
   "source": [
    "#remove any rows with empty values in the text column\n",
    "data.dropna(subset=['text'], inplace=True)\n",
    "\n",
    "#check the shape\n",
    "data.shape"
   ]
  },
  {
   "cell_type": "markdown",
   "metadata": {},
   "source": [
    "Stemming and Lemmatization to find the root forms of words.\n",
    "Lemmatization is favoured over stemming since since stemming may lead to creating non-existent words.\n",
    "Lemmatization is slower but it has a 'dictionary-based' approach and we have time."
   ]
  },
  {
   "cell_type": "code",
   "execution_count": 1026,
   "metadata": {},
   "outputs": [
    {
     "name": "stderr",
     "output_type": "stream",
     "text": [
      "[nltk_data] Downloading package wordnet to /Users/nikesh/nltk_data...\n",
      "[nltk_data]   Package wordnet is already up-to-date!\n"
     ]
    },
    {
     "data": {
      "text/plain": [
       "True"
      ]
     },
     "execution_count": 1026,
     "metadata": {},
     "output_type": "execute_result"
    }
   ],
   "source": [
    "#import required package\n",
    "nltk.download('wordnet')"
   ]
  },
  {
   "cell_type": "code",
   "execution_count": 1027,
   "metadata": {},
   "outputs": [],
   "source": [
    "lemmatizer = nltk.WordNetLemmatizer()\n",
    "#For our dataframe we first tokenize, apply lemmatization then join the spaces\n",
    "data.text = data.text.apply(lambda x: ' '.join(\n",
    "    [lemmatizer.lemmatize(word) for word in nltk.word_tokenize(x)]\n",
    "        ) )"
   ]
  },
  {
   "cell_type": "markdown",
   "metadata": {},
   "source": [
    "Use bigrams to add stopwords for our wordcloud"
   ]
  },
  {
   "cell_type": "code",
   "execution_count": 1028,
   "metadata": {},
   "outputs": [
    {
     "name": "stdout",
     "output_type": "stream",
     "text": [
      "[('X', 'X'), ('0', '0'), ('1', '0'), ('3', '0'), ('V', 'E'), ('1', '6'), ('1', '5'), ('8', '0'), ('0', '9'), ('5', '0'), ('z', 'z'), ('2', '0'), ('1', '4'), ('O', 'O'), ('I', 'N'), ('O', 'V'), ('U', 'K'), ('2', '5'), ('E', 'R'), ('L', 'O')]\n"
     ]
    }
   ],
   "source": [
    "data_string = data.iloc[:10000,:].text.str.cat(sep='. ')\n",
    "print(common_bigrams(data_string, 20, 20)) # top 10 bigrams"
   ]
  },
  {
   "cell_type": "code",
   "execution_count": 1029,
   "metadata": {},
   "outputs": [
    {
     "data": {
      "image/png": "[encoded data removed]",
      "text/plain": [
       "<Figure size 3600x3600 with 1 Axes>"
      ]
     },
     "metadata": {
      "needs_background": "light"
     },
     "output_type": "display_data"
    }
   ],
   "source": [
    "data_string = data.iloc[:10000,:].text.str.cat(sep='. ')\n",
    "\n",
    "stp = STOPWORDS.copy()\n",
    "stp.add('Im') #add stopwords to remove from the plot\n",
    "wc = WordCloud(background_color=\"white\", max_words=200,  stopwords=stp)\n",
    "# generate word cloud\n",
    "wc.generate(data_string)\n",
    "\n",
    "plt.figure(figsize=(50,50))\n",
    "plt.imshow(wc.recolor(color_func=grey_color_func, random_state=3))\n",
    "plt.show()"
   ]
  },
  {
   "cell_type": "code",
   "execution_count": 1030,
   "metadata": {},
   "outputs": [
    {
     "data": {
      "text/plain": [
       "0                                             Id responded\n",
       "1                                  Sooo SAD miss San Diego\n",
       "2                                             bos bullying\n",
       "3                                    interview leave alone\n",
       "4                  Sons couldnt put release already bought\n",
       "                               ...                        \n",
       "27466    Naw pretty tame 1 guy costume Voyagerstyle med...\n",
       "27467             morning twitfriends welcome new follower\n",
       "27468    grilled mushroom olive feta cheese coffee brea...\n",
       "27469                          94 day till BH come back LA\n",
       "27470    lol know hahadid fall asleep get bored shaun p...\n",
       "Name: text, Length: 27470, dtype: object"
      ]
     },
     "execution_count": 1030,
     "metadata": {},
     "output_type": "execute_result"
    }
   ],
   "source": [
    "data.text.head(-10)"
   ]
  },
  {
   "cell_type": "markdown",
   "metadata": {},
   "source": [
    "## Training a sentiment classifier"
   ]
  },
  {
   "cell_type": "code",
   "execution_count": 1031,
   "metadata": {},
   "outputs": [],
   "source": [
    "from sklearn.model_selection import train_test_split\n",
    "from sklearn.feature_extraction.text import CountVectorizer, TfidfVectorizer\n",
    "from sklearn.naive_bayes import MultinomialNB, GaussianNB\n",
    "from sklearn import metrics"
   ]
  },
  {
   "cell_type": "markdown",
   "metadata": {},
   "source": [
    "We use CountVectorizer to help us create a matrix for machine learning"
   ]
  },
  {
   "cell_type": "code",
   "execution_count": 1032,
   "metadata": {},
   "outputs": [],
   "source": [
    "vectorizer = CountVectorizer()\n",
    "#vectorizer = TfidfVectorizer()\n",
    "data.dropna(subset=['text'], inplace=True)\n",
    "X = vectorizer.fit_transform(data.text)"
   ]
  },
  {
   "cell_type": "code",
   "execution_count": 1033,
   "metadata": {},
   "outputs": [],
   "source": [
    "#create a validation set\n",
    "train_x, val_x, train_y, val_y = train_test_split(X,data.sentiment,test_size=0.2,random_state = 10)"
   ]
  },
  {
   "cell_type": "markdown",
   "metadata": {},
   "source": [
    "We instantiate a multinomial naive bayes model, then fit it"
   ]
  },
  {
   "cell_type": "code",
   "execution_count": 1034,
   "metadata": {},
   "outputs": [
    {
     "data": {
      "text/plain": [
       "MultinomialNB(alpha=1.0, class_prior=None, fit_prior=True)"
      ]
     },
     "execution_count": 1034,
     "metadata": {},
     "output_type": "execute_result"
    }
   ],
   "source": [
    "nb = MultinomialNB()\n",
    "\n",
    "#nb.fit(features_matrix, item_we_want_to_predict)\n",
    "#nb.fit(X, data.sentiment)\n",
    "nb.fit(train_x, train_y)"
   ]
  },
  {
   "cell_type": "code",
   "execution_count": 1035,
   "metadata": {},
   "outputs": [
    {
     "data": {
      "text/plain": [
       "0.6501091703056768"
      ]
     },
     "execution_count": 1035,
     "metadata": {},
     "output_type": "execute_result"
    }
   ],
   "source": [
    "predicted = nb.predict(val_x)\n",
    "accuracy = metrics.accuracy_score(predicted,val_y)\n",
    "accuracy"
   ]
  },
  {
   "cell_type": "markdown",
   "metadata": {},
   "source": [
    "To assign every prediction to the sentiment column of the submission csv we must:\n",
    "1. load in the test and submission CSV files\n",
    "2. Perform the exact same preprocessing as we did for the training set\n",
    "3. Predict the sentiment for the whole test set and put them in the corresponding row in the submission CSV\n",
    " ### Assumption that the rows are lined up in the same order"
   ]
  },
  {
   "cell_type": "code",
   "execution_count": 1036,
   "metadata": {},
   "outputs": [],
   "source": [
    "testing = pd.read_csv('test.csv')\n",
    "submission = pd.read_csv('sample_submission.csv')"
   ]
  },
  {
   "cell_type": "code",
   "execution_count": 1037,
   "metadata": {},
   "outputs": [
    {
     "data": {
      "text/html": [
       "<div>\n",
       "<style scoped>\n",
       "    .dataframe tbody tr th:only-of-type {\n",
       "        vertical-align: middle;\n",
       "    }\n",
       "\n",
       "    .dataframe tbody tr th {\n",
       "        vertical-align: top;\n",
       "    }\n",
       "\n",
       "    .dataframe thead th {\n",
       "        text-align: right;\n",
       "    }\n",
       "</style>\n",
       "<table border=\"1\" class=\"dataframe\">\n",
       "  <thead>\n",
       "    <tr style=\"text-align: right;\">\n",
       "      <th></th>\n",
       "      <th>textID</th>\n",
       "      <th>text</th>\n",
       "    </tr>\n",
       "  </thead>\n",
       "  <tbody>\n",
       "    <tr>\n",
       "      <th>0</th>\n",
       "      <td>f87dea47db</td>\n",
       "      <td>Last session of the day  http://twitpic.com/67ezh</td>\n",
       "    </tr>\n",
       "    <tr>\n",
       "      <th>1</th>\n",
       "      <td>96d74cb729</td>\n",
       "      <td>Shanghai is also really exciting (precisely -...</td>\n",
       "    </tr>\n",
       "    <tr>\n",
       "      <th>2</th>\n",
       "      <td>eee518ae67</td>\n",
       "      <td>Recession hit Veronique Branquinho, she has to...</td>\n",
       "    </tr>\n",
       "  </tbody>\n",
       "</table>\n",
       "</div>"
      ],
      "text/plain": [
       "       textID                                               text\n",
       "0  f87dea47db  Last session of the day  http://twitpic.com/67ezh\n",
       "1  96d74cb729   Shanghai is also really exciting (precisely -...\n",
       "2  eee518ae67  Recession hit Veronique Branquinho, she has to..."
      ]
     },
     "execution_count": 1037,
     "metadata": {},
     "output_type": "execute_result"
    }
   ],
   "source": [
    "testing.head(3)"
   ]
  },
  {
   "cell_type": "code",
   "execution_count": 1038,
   "metadata": {},
   "outputs": [
    {
     "data": {
      "text/plain": [
       "(3534, 2)"
      ]
     },
     "execution_count": 1038,
     "metadata": {},
     "output_type": "execute_result"
    }
   ],
   "source": [
    "testing.shape"
   ]
  },
  {
   "cell_type": "code",
   "execution_count": 1039,
   "metadata": {},
   "outputs": [
    {
     "data": {
      "text/html": [
       "<div>\n",
       "<style scoped>\n",
       "    .dataframe tbody tr th:only-of-type {\n",
       "        vertical-align: middle;\n",
       "    }\n",
       "\n",
       "    .dataframe tbody tr th {\n",
       "        vertical-align: top;\n",
       "    }\n",
       "\n",
       "    .dataframe thead th {\n",
       "        text-align: right;\n",
       "    }\n",
       "</style>\n",
       "<table border=\"1\" class=\"dataframe\">\n",
       "  <thead>\n",
       "    <tr style=\"text-align: right;\">\n",
       "      <th></th>\n",
       "      <th>textID</th>\n",
       "      <th>sentiment</th>\n",
       "    </tr>\n",
       "  </thead>\n",
       "  <tbody>\n",
       "    <tr>\n",
       "      <th>0</th>\n",
       "      <td>f87dea47db</td>\n",
       "      <td>NaN</td>\n",
       "    </tr>\n",
       "    <tr>\n",
       "      <th>1</th>\n",
       "      <td>96d74cb729</td>\n",
       "      <td>NaN</td>\n",
       "    </tr>\n",
       "    <tr>\n",
       "      <th>2</th>\n",
       "      <td>eee518ae67</td>\n",
       "      <td>NaN</td>\n",
       "    </tr>\n",
       "  </tbody>\n",
       "</table>\n",
       "</div>"
      ],
      "text/plain": [
       "       textID  sentiment\n",
       "0  f87dea47db        NaN\n",
       "1  96d74cb729        NaN\n",
       "2  eee518ae67        NaN"
      ]
     },
     "execution_count": 1039,
     "metadata": {},
     "output_type": "execute_result"
    }
   ],
   "source": [
    "submission.head(3)"
   ]
  },
  {
   "cell_type": "code",
   "execution_count": 1040,
   "metadata": {},
   "outputs": [
    {
     "data": {
      "text/plain": [
       "(3534, 2)"
      ]
     },
     "execution_count": 1040,
     "metadata": {},
     "output_type": "execute_result"
    }
   ],
   "source": [
    "submission.shape"
   ]
  },
  {
   "cell_type": "code",
   "execution_count": 1041,
   "metadata": {},
   "outputs": [],
   "source": [
    "#first we remove the rows with empty text cells\n",
    "testing.dropna(subset=['text'], inplace=True)\n",
    "\n",
    "#remove punctuation \n",
    "data.text = data.text.apply(lambda x: re.sub(r'[^\\w\\s]', '', x) )\n",
    "\n",
    "#remove stopwords\n",
    "data.text = data.text.apply(lambda x: ' '.join([word for word in nltk.word_tokenize(x) if word.lower() not in stopwords]))\n",
    "\n",
    "#remove any supplied links to text columns\n",
    "data.text = data.text.apply(lambda x: re.sub(r'\\(?http\\S+', '', x))\n",
    "\n",
    "#remove unicode\n",
    "data.text = data.text.apply(lambda x: re.sub(r'[^\\x00-\\x7F]+',' ', x))\n",
    "\n",
    "#remove any starting or trailing whitespace\n",
    "data.text = data.text.apply(lambda x: re.sub(r'^[ \\t]+|[ \\t]+$', '', x))\n",
    "\n",
    "\n",
    "#Lemmatization\n",
    "testing.text = testing.text.apply(lambda x: ' '.join(\n",
    "    [lemmatizer.lemmatize(word) for word in nltk.word_tokenize(x)]\n",
    "        ) )"
   ]
  },
  {
   "cell_type": "code",
   "execution_count": 1042,
   "metadata": {},
   "outputs": [
    {
     "data": {
      "text/plain": [
       "(3534, 2)"
      ]
     },
     "execution_count": 1042,
     "metadata": {},
     "output_type": "execute_result"
    }
   ],
   "source": [
    "testing.shape"
   ]
  },
  {
   "cell_type": "code",
   "execution_count": 1043,
   "metadata": {},
   "outputs": [],
   "source": [
    "#vectorise our text\n",
    "test_vect = vectorizer.transform(testing.text)"
   ]
  },
  {
   "cell_type": "code",
   "execution_count": 1044,
   "metadata": {},
   "outputs": [
    {
     "data": {
      "text/plain": [
       "array(['positive', 'positive', 'negative', ..., 'negative', 'neutral',\n",
       "       'positive'], dtype='<U8')"
      ]
     },
     "execution_count": 1044,
     "metadata": {},
     "output_type": "execute_result"
    }
   ],
   "source": [
    "#generate the predictions from the test set\n",
    "test_predict = nb.predict(test_vect)\n",
    "test_predict"
   ]
  },
  {
   "cell_type": "code",
   "execution_count": 1045,
   "metadata": {},
   "outputs": [],
   "source": [
    "#assign the predictions to the submission file under the sentiment column\n",
    "submission.sentiment = test_predict"
   ]
  },
  {
   "cell_type": "code",
   "execution_count": 1046,
   "metadata": {},
   "outputs": [
    {
     "data": {
      "text/html": [
       "<div>\n",
       "<style scoped>\n",
       "    .dataframe tbody tr th:only-of-type {\n",
       "        vertical-align: middle;\n",
       "    }\n",
       "\n",
       "    .dataframe tbody tr th {\n",
       "        vertical-align: top;\n",
       "    }\n",
       "\n",
       "    .dataframe thead th {\n",
       "        text-align: right;\n",
       "    }\n",
       "</style>\n",
       "<table border=\"1\" class=\"dataframe\">\n",
       "  <thead>\n",
       "    <tr style=\"text-align: right;\">\n",
       "      <th></th>\n",
       "      <th>textID</th>\n",
       "      <th>sentiment</th>\n",
       "    </tr>\n",
       "  </thead>\n",
       "  <tbody>\n",
       "    <tr>\n",
       "      <th>0</th>\n",
       "      <td>f87dea47db</td>\n",
       "      <td>positive</td>\n",
       "    </tr>\n",
       "    <tr>\n",
       "      <th>1</th>\n",
       "      <td>96d74cb729</td>\n",
       "      <td>positive</td>\n",
       "    </tr>\n",
       "    <tr>\n",
       "      <th>2</th>\n",
       "      <td>eee518ae67</td>\n",
       "      <td>negative</td>\n",
       "    </tr>\n",
       "    <tr>\n",
       "      <th>3</th>\n",
       "      <td>01082688c6</td>\n",
       "      <td>positive</td>\n",
       "    </tr>\n",
       "    <tr>\n",
       "      <th>4</th>\n",
       "      <td>33987a8ee5</td>\n",
       "      <td>neutral</td>\n",
       "    </tr>\n",
       "    <tr>\n",
       "      <th>...</th>\n",
       "      <td>...</td>\n",
       "      <td>...</td>\n",
       "    </tr>\n",
       "    <tr>\n",
       "      <th>3524</th>\n",
       "      <td>e965e50c60</td>\n",
       "      <td>negative</td>\n",
       "    </tr>\n",
       "    <tr>\n",
       "      <th>3525</th>\n",
       "      <td>b1c36b70a4</td>\n",
       "      <td>negative</td>\n",
       "    </tr>\n",
       "    <tr>\n",
       "      <th>3526</th>\n",
       "      <td>4d2de9d1af</td>\n",
       "      <td>positive</td>\n",
       "    </tr>\n",
       "    <tr>\n",
       "      <th>3527</th>\n",
       "      <td>0c2e7ab834</td>\n",
       "      <td>positive</td>\n",
       "    </tr>\n",
       "    <tr>\n",
       "      <th>3528</th>\n",
       "      <td>0bb5b4d19c</td>\n",
       "      <td>neutral</td>\n",
       "    </tr>\n",
       "  </tbody>\n",
       "</table>\n",
       "<p>3529 rows × 2 columns</p>\n",
       "</div>"
      ],
      "text/plain": [
       "          textID sentiment\n",
       "0     f87dea47db  positive\n",
       "1     96d74cb729  positive\n",
       "2     eee518ae67  negative\n",
       "3     01082688c6  positive\n",
       "4     33987a8ee5   neutral\n",
       "...          ...       ...\n",
       "3524  e965e50c60  negative\n",
       "3525  b1c36b70a4  negative\n",
       "3526  4d2de9d1af  positive\n",
       "3527  0c2e7ab834  positive\n",
       "3528  0bb5b4d19c   neutral\n",
       "\n",
       "[3529 rows x 2 columns]"
      ]
     },
     "execution_count": 1046,
     "metadata": {},
     "output_type": "execute_result"
    }
   ],
   "source": [
    "submission.head(-5)"
   ]
  },
  {
   "cell_type": "code",
   "execution_count": 1047,
   "metadata": {},
   "outputs": [],
   "source": [
    "#convert the submission file to a csv\n",
    "#submission.to_csv('sub.csv', index=False)"
   ]
  },
  {
   "cell_type": "markdown",
   "metadata": {},
   "source": [
    "### Compare differences between package and the trained model from Kaggle"
   ]
  },
  {
   "cell_type": "code",
   "execution_count": 1062,
   "metadata": {},
   "outputs": [],
   "source": [
    "df = pd.read_csv('df_comments.csv')"
   ]
  },
  {
   "cell_type": "code",
   "execution_count": 1063,
   "metadata": {},
   "outputs": [],
   "source": [
    "comments_vect = vectorizer.transform(df.Reply.values.astype('U'))\n",
    "comment_sentiment = nb.predict(comments_vect)"
   ]
  },
  {
   "cell_type": "code",
   "execution_count": 1064,
   "metadata": {},
   "outputs": [
    {
     "data": {
      "text/html": [
       "<div>\n",
       "<style scoped>\n",
       "    .dataframe tbody tr th:only-of-type {\n",
       "        vertical-align: middle;\n",
       "    }\n",
       "\n",
       "    .dataframe tbody tr th {\n",
       "        vertical-align: top;\n",
       "    }\n",
       "\n",
       "    .dataframe thead th {\n",
       "        text-align: right;\n",
       "    }\n",
       "</style>\n",
       "<table border=\"1\" class=\"dataframe\">\n",
       "  <thead>\n",
       "    <tr style=\"text-align: right;\">\n",
       "      <th></th>\n",
       "      <th>Reply</th>\n",
       "      <th>Upvote</th>\n",
       "      <th>Time</th>\n",
       "      <th>Key</th>\n",
       "      <th>neg</th>\n",
       "      <th>neu</th>\n",
       "      <th>pos</th>\n",
       "      <th>compound</th>\n",
       "      <th>sentiment</th>\n",
       "    </tr>\n",
       "  </thead>\n",
       "  <tbody>\n",
       "    <tr>\n",
       "      <th>0</th>\n",
       "      <td>Thank you Come back if they dont appreciate you</td>\n",
       "      <td>537.0</td>\n",
       "      <td>2019-05-30 08:59:39</td>\n",
       "      <td>1.0</td>\n",
       "      <td>0.192</td>\n",
       "      <td>0.595</td>\n",
       "      <td>0.213</td>\n",
       "      <td>0.0624</td>\n",
       "      <td>positive</td>\n",
       "    </tr>\n",
       "    <tr>\n",
       "      <th>1</th>\n",
       "      <td>That hit home hard he sounded emotional saying it</td>\n",
       "      <td>247.0</td>\n",
       "      <td>2019-05-30 09:00:24</td>\n",
       "      <td>1.0</td>\n",
       "      <td>0.140</td>\n",
       "      <td>0.700</td>\n",
       "      <td>0.160</td>\n",
       "      <td>0.0516</td>\n",
       "      <td>negative</td>\n",
       "    </tr>\n",
       "    <tr>\n",
       "      <th>2</th>\n",
       "      <td>We got 7 year from him Thats the bulk of his c...</td>\n",
       "      <td>174.0</td>\n",
       "      <td>2019-05-30 09:12:37</td>\n",
       "      <td>1.0</td>\n",
       "      <td>0.000</td>\n",
       "      <td>1.000</td>\n",
       "      <td>0.000</td>\n",
       "      <td>0.0000</td>\n",
       "      <td>neutral</td>\n",
       "    </tr>\n",
       "    <tr>\n",
       "      <th>3</th>\n",
       "      <td>Dont cry because it over smile because it happ...</td>\n",
       "      <td>310.0</td>\n",
       "      <td>2019-05-30 09:04:29</td>\n",
       "      <td>1.0</td>\n",
       "      <td>0.000</td>\n",
       "      <td>0.581</td>\n",
       "      <td>0.419</td>\n",
       "      <td>0.6192</td>\n",
       "      <td>negative</td>\n",
       "    </tr>\n",
       "    <tr>\n",
       "      <th>4</th>\n",
       "      <td>Thank you Eden Its been a pleasure watching yo...</td>\n",
       "      <td>71.0</td>\n",
       "      <td>2019-05-30 08:59:15</td>\n",
       "      <td>1.0</td>\n",
       "      <td>0.000</td>\n",
       "      <td>0.511</td>\n",
       "      <td>0.489</td>\n",
       "      <td>0.8225</td>\n",
       "      <td>positive</td>\n",
       "    </tr>\n",
       "  </tbody>\n",
       "</table>\n",
       "</div>"
      ],
      "text/plain": [
       "                                               Reply  Upvote  \\\n",
       "0    Thank you Come back if they dont appreciate you   537.0   \n",
       "1  That hit home hard he sounded emotional saying it   247.0   \n",
       "2  We got 7 year from him Thats the bulk of his c...   174.0   \n",
       "3  Dont cry because it over smile because it happ...   310.0   \n",
       "4  Thank you Eden Its been a pleasure watching yo...    71.0   \n",
       "\n",
       "                  Time  Key    neg    neu    pos  compound sentiment  \n",
       "0  2019-05-30 08:59:39  1.0  0.192  0.595  0.213    0.0624  positive  \n",
       "1  2019-05-30 09:00:24  1.0  0.140  0.700  0.160    0.0516  negative  \n",
       "2  2019-05-30 09:12:37  1.0  0.000  1.000  0.000    0.0000   neutral  \n",
       "3  2019-05-30 09:04:29  1.0  0.000  0.581  0.419    0.6192  negative  \n",
       "4  2019-05-30 08:59:15  1.0  0.000  0.511  0.489    0.8225  positive  "
      ]
     },
     "execution_count": 1064,
     "metadata": {},
     "output_type": "execute_result"
    }
   ],
   "source": [
    "df['sentiment'] = comment_sentiment\n",
    "df.head()"
   ]
  },
  {
   "cell_type": "code",
   "execution_count": 1065,
   "metadata": {},
   "outputs": [
    {
     "data": {
      "text/plain": [
       "(48700, 9)"
      ]
     },
     "execution_count": 1065,
     "metadata": {},
     "output_type": "execute_result"
    }
   ],
   "source": [
    "df.shape"
   ]
  },
  {
   "cell_type": "code",
   "execution_count": 1066,
   "metadata": {},
   "outputs": [
    {
     "data": {
      "text/plain": [
       "(17237, 9)"
      ]
     },
     "execution_count": 1066,
     "metadata": {},
     "output_type": "execute_result"
    }
   ],
   "source": [
    "great = df[df.sentiment.str.contains(\"positive\")]\n",
    "great.shape"
   ]
  },
  {
   "cell_type": "code",
   "execution_count": 1067,
   "metadata": {},
   "outputs": [
    {
     "data": {
      "text/html": [
       "<div>\n",
       "<style scoped>\n",
       "    .dataframe tbody tr th:only-of-type {\n",
       "        vertical-align: middle;\n",
       "    }\n",
       "\n",
       "    .dataframe tbody tr th {\n",
       "        vertical-align: top;\n",
       "    }\n",
       "\n",
       "    .dataframe thead th {\n",
       "        text-align: right;\n",
       "    }\n",
       "</style>\n",
       "<table border=\"1\" class=\"dataframe\">\n",
       "  <thead>\n",
       "    <tr style=\"text-align: right;\">\n",
       "      <th></th>\n",
       "      <th>Reply</th>\n",
       "      <th>Upvote</th>\n",
       "      <th>Time</th>\n",
       "      <th>Key</th>\n",
       "      <th>neg</th>\n",
       "      <th>neu</th>\n",
       "      <th>pos</th>\n",
       "      <th>compound</th>\n",
       "      <th>sentiment</th>\n",
       "    </tr>\n",
       "  </thead>\n",
       "  <tbody>\n",
       "    <tr>\n",
       "      <th>14</th>\n",
       "      <td>NaN</td>\n",
       "      <td>10.0</td>\n",
       "      <td>2019-05-30 08:58:58</td>\n",
       "      <td>1.0</td>\n",
       "      <td>0.000</td>\n",
       "      <td>0.000</td>\n",
       "      <td>0.000</td>\n",
       "      <td>0.0000</td>\n",
       "      <td>positive</td>\n",
       "    </tr>\n",
       "    <tr>\n",
       "      <th>25</th>\n",
       "      <td>THE KING IN THE WEST</td>\n",
       "      <td>7.0</td>\n",
       "      <td>2019-05-30 09:07:08</td>\n",
       "      <td>1.0</td>\n",
       "      <td>0.000</td>\n",
       "      <td>1.000</td>\n",
       "      <td>0.000</td>\n",
       "      <td>0.0000</td>\n",
       "      <td>positive</td>\n",
       "    </tr>\n",
       "    <tr>\n",
       "      <th>38</th>\n",
       "      <td>Merci pour tout Eden Toujours dans mon coeur</td>\n",
       "      <td>2.0</td>\n",
       "      <td>2019-05-30 10:08:52</td>\n",
       "      <td>1.0</td>\n",
       "      <td>0.176</td>\n",
       "      <td>0.824</td>\n",
       "      <td>0.000</td>\n",
       "      <td>-0.1280</td>\n",
       "      <td>positive</td>\n",
       "    </tr>\n",
       "    <tr>\n",
       "      <th>42</th>\n",
       "      <td>LEGEND</td>\n",
       "      <td>2.0</td>\n",
       "      <td>2019-05-30 17:13:48</td>\n",
       "      <td>1.0</td>\n",
       "      <td>0.000</td>\n",
       "      <td>1.000</td>\n",
       "      <td>0.000</td>\n",
       "      <td>0.0000</td>\n",
       "      <td>positive</td>\n",
       "    </tr>\n",
       "    <tr>\n",
       "      <th>43</th>\n",
       "      <td>Change the name of the stadium to Eden Gardens _</td>\n",
       "      <td>2.0</td>\n",
       "      <td>2019-05-30 18:32:46</td>\n",
       "      <td>1.0</td>\n",
       "      <td>0.000</td>\n",
       "      <td>1.000</td>\n",
       "      <td>0.000</td>\n",
       "      <td>0.0000</td>\n",
       "      <td>positive</td>\n",
       "    </tr>\n",
       "    <tr>\n",
       "      <th>...</th>\n",
       "      <td>...</td>\n",
       "      <td>...</td>\n",
       "      <td>...</td>\n",
       "      <td>...</td>\n",
       "      <td>...</td>\n",
       "      <td>...</td>\n",
       "      <td>...</td>\n",
       "      <td>...</td>\n",
       "      <td>...</td>\n",
       "    </tr>\n",
       "    <tr>\n",
       "      <th>48664</th>\n",
       "      <td>removed</td>\n",
       "      <td>-2.0</td>\n",
       "      <td>2020-05-30 21:17:57</td>\n",
       "      <td>499.0</td>\n",
       "      <td>0.000</td>\n",
       "      <td>1.000</td>\n",
       "      <td>0.000</td>\n",
       "      <td>0.0000</td>\n",
       "      <td>positive</td>\n",
       "    </tr>\n",
       "    <tr>\n",
       "      <th>48688</th>\n",
       "      <td>Well apparently we live in a world where the P...</td>\n",
       "      <td>3.0</td>\n",
       "      <td>2020-05-30 05:45:47</td>\n",
       "      <td>499.0</td>\n",
       "      <td>0.124</td>\n",
       "      <td>0.747</td>\n",
       "      <td>0.130</td>\n",
       "      <td>-0.3384</td>\n",
       "      <td>positive</td>\n",
       "    </tr>\n",
       "    <tr>\n",
       "      <th>48689</th>\n",
       "      <td>Unless Im mistaken the Mourinho incident wa a ...</td>\n",
       "      <td>2.0</td>\n",
       "      <td>2020-05-30 05:22:39</td>\n",
       "      <td>499.0</td>\n",
       "      <td>0.099</td>\n",
       "      <td>0.847</td>\n",
       "      <td>0.055</td>\n",
       "      <td>-0.4792</td>\n",
       "      <td>positive</td>\n",
       "    </tr>\n",
       "    <tr>\n",
       "      <th>48697</th>\n",
       "      <td>Youre absolutely deranged</td>\n",
       "      <td>2.0</td>\n",
       "      <td>2020-05-30 06:09:23</td>\n",
       "      <td>499.0</td>\n",
       "      <td>0.000</td>\n",
       "      <td>1.000</td>\n",
       "      <td>0.000</td>\n",
       "      <td>0.0000</td>\n",
       "      <td>positive</td>\n",
       "    </tr>\n",
       "    <tr>\n",
       "      <th>48699</th>\n",
       "      <td>Lol youre literally insaneAlso are you ok You ...</td>\n",
       "      <td>1.0</td>\n",
       "      <td>2020-05-30 07:24:18</td>\n",
       "      <td>499.0</td>\n",
       "      <td>0.289</td>\n",
       "      <td>0.502</td>\n",
       "      <td>0.209</td>\n",
       "      <td>-0.4404</td>\n",
       "      <td>positive</td>\n",
       "    </tr>\n",
       "  </tbody>\n",
       "</table>\n",
       "<p>5443 rows × 9 columns</p>\n",
       "</div>"
      ],
      "text/plain": [
       "                                                   Reply  Upvote  \\\n",
       "14                                                   NaN    10.0   \n",
       "25                                  THE KING IN THE WEST     7.0   \n",
       "38          Merci pour tout Eden Toujours dans mon coeur     2.0   \n",
       "42                                                LEGEND     2.0   \n",
       "43      Change the name of the stadium to Eden Gardens _     2.0   \n",
       "...                                                  ...     ...   \n",
       "48664                                            removed    -2.0   \n",
       "48688  Well apparently we live in a world where the P...     3.0   \n",
       "48689  Unless Im mistaken the Mourinho incident wa a ...     2.0   \n",
       "48697                          Youre absolutely deranged     2.0   \n",
       "48699  Lol youre literally insaneAlso are you ok You ...     1.0   \n",
       "\n",
       "                      Time    Key    neg    neu    pos  compound sentiment  \n",
       "14     2019-05-30 08:58:58    1.0  0.000  0.000  0.000    0.0000  positive  \n",
       "25     2019-05-30 09:07:08    1.0  0.000  1.000  0.000    0.0000  positive  \n",
       "38     2019-05-30 10:08:52    1.0  0.176  0.824  0.000   -0.1280  positive  \n",
       "42     2019-05-30 17:13:48    1.0  0.000  1.000  0.000    0.0000  positive  \n",
       "43     2019-05-30 18:32:46    1.0  0.000  1.000  0.000    0.0000  positive  \n",
       "...                    ...    ...    ...    ...    ...       ...       ...  \n",
       "48664  2020-05-30 21:17:57  499.0  0.000  1.000  0.000    0.0000  positive  \n",
       "48688  2020-05-30 05:45:47  499.0  0.124  0.747  0.130   -0.3384  positive  \n",
       "48689  2020-05-30 05:22:39  499.0  0.099  0.847  0.055   -0.4792  positive  \n",
       "48697  2020-05-30 06:09:23  499.0  0.000  1.000  0.000    0.0000  positive  \n",
       "48699  2020-05-30 07:24:18  499.0  0.289  0.502  0.209   -0.4404  positive  \n",
       "\n",
       "[5443 rows x 9 columns]"
      ]
     },
     "execution_count": 1067,
     "metadata": {},
     "output_type": "execute_result"
    }
   ],
   "source": [
    "pos = df[df.sentiment.str.contains(\"positive\")].loc[df['compound'] <= 0.0]\n",
    "pos"
   ]
  },
  {
   "cell_type": "code",
   "execution_count": 1068,
   "metadata": {},
   "outputs": [
    {
     "data": {
      "text/plain": [
       "0.6842257933515112"
      ]
     },
     "execution_count": 1068,
     "metadata": {},
     "output_type": "execute_result"
    }
   ],
   "source": [
    "pos_acc = (great.shape[0]-pos.shape[0])/great.shape[0]\n",
    "pos_acc"
   ]
  },
  {
   "cell_type": "code",
   "execution_count": 1069,
   "metadata": {},
   "outputs": [
    {
     "data": {
      "text/plain": [
       "(12118, 9)"
      ]
     },
     "execution_count": 1069,
     "metadata": {},
     "output_type": "execute_result"
    }
   ],
   "source": [
    "great = df[df.sentiment.str.contains(\"negative\")]\n",
    "great.shape"
   ]
  },
  {
   "cell_type": "code",
   "execution_count": 1070,
   "metadata": {},
   "outputs": [
    {
     "data": {
      "text/html": [
       "<div>\n",
       "<style scoped>\n",
       "    .dataframe tbody tr th:only-of-type {\n",
       "        vertical-align: middle;\n",
       "    }\n",
       "\n",
       "    .dataframe tbody tr th {\n",
       "        vertical-align: top;\n",
       "    }\n",
       "\n",
       "    .dataframe thead th {\n",
       "        text-align: right;\n",
       "    }\n",
       "</style>\n",
       "<table border=\"1\" class=\"dataframe\">\n",
       "  <thead>\n",
       "    <tr style=\"text-align: right;\">\n",
       "      <th></th>\n",
       "      <th>Reply</th>\n",
       "      <th>Upvote</th>\n",
       "      <th>Time</th>\n",
       "      <th>Key</th>\n",
       "      <th>neg</th>\n",
       "      <th>neu</th>\n",
       "      <th>pos</th>\n",
       "      <th>compound</th>\n",
       "      <th>sentiment</th>\n",
       "    </tr>\n",
       "  </thead>\n",
       "  <tbody>\n",
       "    <tr>\n",
       "      <th>1</th>\n",
       "      <td>That hit home hard he sounded emotional saying it</td>\n",
       "      <td>247.0</td>\n",
       "      <td>2019-05-30 09:00:24</td>\n",
       "      <td>1.0</td>\n",
       "      <td>0.140</td>\n",
       "      <td>0.700</td>\n",
       "      <td>0.160</td>\n",
       "      <td>0.0516</td>\n",
       "      <td>negative</td>\n",
       "    </tr>\n",
       "    <tr>\n",
       "      <th>3</th>\n",
       "      <td>Dont cry because it over smile because it happ...</td>\n",
       "      <td>310.0</td>\n",
       "      <td>2019-05-30 09:04:29</td>\n",
       "      <td>1.0</td>\n",
       "      <td>0.000</td>\n",
       "      <td>0.581</td>\n",
       "      <td>0.419</td>\n",
       "      <td>0.6192</td>\n",
       "      <td>negative</td>\n",
       "    </tr>\n",
       "    <tr>\n",
       "      <th>11</th>\n",
       "      <td>My heart</td>\n",
       "      <td>18.0</td>\n",
       "      <td>2019-05-30 09:05:00</td>\n",
       "      <td>1.0</td>\n",
       "      <td>0.000</td>\n",
       "      <td>1.000</td>\n",
       "      <td>0.000</td>\n",
       "      <td>0.0000</td>\n",
       "      <td>negative</td>\n",
       "    </tr>\n",
       "    <tr>\n",
       "      <th>47</th>\n",
       "      <td>This man truly turned me to the beautiful game...</td>\n",
       "      <td>3.0</td>\n",
       "      <td>2019-05-30 09:18:28</td>\n",
       "      <td>1.0</td>\n",
       "      <td>0.105</td>\n",
       "      <td>0.571</td>\n",
       "      <td>0.324</td>\n",
       "      <td>0.6808</td>\n",
       "      <td>negative</td>\n",
       "    </tr>\n",
       "    <tr>\n",
       "      <th>51</th>\n",
       "      <td>Grown man tear will be shed</td>\n",
       "      <td>2.0</td>\n",
       "      <td>2019-05-30 09:10:39</td>\n",
       "      <td>1.0</td>\n",
       "      <td>0.000</td>\n",
       "      <td>1.000</td>\n",
       "      <td>0.000</td>\n",
       "      <td>0.0000</td>\n",
       "      <td>negative</td>\n",
       "    </tr>\n",
       "    <tr>\n",
       "      <th>...</th>\n",
       "      <td>...</td>\n",
       "      <td>...</td>\n",
       "      <td>...</td>\n",
       "      <td>...</td>\n",
       "      <td>...</td>\n",
       "      <td>...</td>\n",
       "      <td>...</td>\n",
       "      <td>...</td>\n",
       "      <td>...</td>\n",
       "    </tr>\n",
       "    <tr>\n",
       "      <th>48669</th>\n",
       "      <td>Nope I wa really clear in other comment that t...</td>\n",
       "      <td>1.0</td>\n",
       "      <td>2020-05-30 09:49:35</td>\n",
       "      <td>499.0</td>\n",
       "      <td>0.064</td>\n",
       "      <td>0.764</td>\n",
       "      <td>0.172</td>\n",
       "      <td>0.8750</td>\n",
       "      <td>negative</td>\n",
       "    </tr>\n",
       "    <tr>\n",
       "      <th>48670</th>\n",
       "      <td>I think you dont understand how social medium ...</td>\n",
       "      <td>-1.0</td>\n",
       "      <td>2020-05-30 04:00:16</td>\n",
       "      <td>499.0</td>\n",
       "      <td>0.000</td>\n",
       "      <td>1.000</td>\n",
       "      <td>0.000</td>\n",
       "      <td>0.0000</td>\n",
       "      <td>negative</td>\n",
       "    </tr>\n",
       "    <tr>\n",
       "      <th>48684</th>\n",
       "      <td>I personally think it very funny and it got a ...</td>\n",
       "      <td>1.0</td>\n",
       "      <td>2020-05-30 05:19:09</td>\n",
       "      <td>499.0</td>\n",
       "      <td>0.070</td>\n",
       "      <td>0.833</td>\n",
       "      <td>0.097</td>\n",
       "      <td>0.3276</td>\n",
       "      <td>negative</td>\n",
       "    </tr>\n",
       "    <tr>\n",
       "      <th>48686</th>\n",
       "      <td>a someone pointed out a below is treating this...</td>\n",
       "      <td>1.0</td>\n",
       "      <td>2020-05-30 10:19:16</td>\n",
       "      <td>499.0</td>\n",
       "      <td>0.000</td>\n",
       "      <td>0.647</td>\n",
       "      <td>0.353</td>\n",
       "      <td>0.8510</td>\n",
       "      <td>negative</td>\n",
       "    </tr>\n",
       "    <tr>\n",
       "      <th>48695</th>\n",
       "      <td>You okay bro You just replied to like 6 of my ...</td>\n",
       "      <td>0.0</td>\n",
       "      <td>2020-05-30 06:15:48</td>\n",
       "      <td>499.0</td>\n",
       "      <td>0.057</td>\n",
       "      <td>0.837</td>\n",
       "      <td>0.106</td>\n",
       "      <td>0.2960</td>\n",
       "      <td>negative</td>\n",
       "    </tr>\n",
       "  </tbody>\n",
       "</table>\n",
       "<p>7072 rows × 9 columns</p>\n",
       "</div>"
      ],
      "text/plain": [
       "                                                   Reply  Upvote  \\\n",
       "1      That hit home hard he sounded emotional saying it   247.0   \n",
       "3      Dont cry because it over smile because it happ...   310.0   \n",
       "11                                              My heart    18.0   \n",
       "47     This man truly turned me to the beautiful game...     3.0   \n",
       "51                           Grown man tear will be shed     2.0   \n",
       "...                                                  ...     ...   \n",
       "48669  Nope I wa really clear in other comment that t...     1.0   \n",
       "48670  I think you dont understand how social medium ...    -1.0   \n",
       "48684  I personally think it very funny and it got a ...     1.0   \n",
       "48686  a someone pointed out a below is treating this...     1.0   \n",
       "48695  You okay bro You just replied to like 6 of my ...     0.0   \n",
       "\n",
       "                      Time    Key    neg    neu    pos  compound sentiment  \n",
       "1      2019-05-30 09:00:24    1.0  0.140  0.700  0.160    0.0516  negative  \n",
       "3      2019-05-30 09:04:29    1.0  0.000  0.581  0.419    0.6192  negative  \n",
       "11     2019-05-30 09:05:00    1.0  0.000  1.000  0.000    0.0000  negative  \n",
       "47     2019-05-30 09:18:28    1.0  0.105  0.571  0.324    0.6808  negative  \n",
       "51     2019-05-30 09:10:39    1.0  0.000  1.000  0.000    0.0000  negative  \n",
       "...                    ...    ...    ...    ...    ...       ...       ...  \n",
       "48669  2020-05-30 09:49:35  499.0  0.064  0.764  0.172    0.8750  negative  \n",
       "48670  2020-05-30 04:00:16  499.0  0.000  1.000  0.000    0.0000  negative  \n",
       "48684  2020-05-30 05:19:09  499.0  0.070  0.833  0.097    0.3276  negative  \n",
       "48686  2020-05-30 10:19:16  499.0  0.000  0.647  0.353    0.8510  negative  \n",
       "48695  2020-05-30 06:15:48  499.0  0.057  0.837  0.106    0.2960  negative  \n",
       "\n",
       "[7072 rows x 9 columns]"
      ]
     },
     "execution_count": 1070,
     "metadata": {},
     "output_type": "execute_result"
    }
   ],
   "source": [
    "neg = df[df.sentiment.str.contains(\"negative\")].loc[df['compound'] >= 0.0]\n",
    "neg"
   ]
  },
  {
   "cell_type": "code",
   "execution_count": 1071,
   "metadata": {},
   "outputs": [
    {
     "data": {
      "text/plain": [
       "0.41640534741706553"
      ]
     },
     "execution_count": 1071,
     "metadata": {},
     "output_type": "execute_result"
    }
   ],
   "source": [
    "neg_acc = (great.shape[0]-neg.shape[0])/great.shape[0]\n",
    "neg_acc"
   ]
  },
  {
   "cell_type": "code",
   "execution_count": 1072,
   "metadata": {
    "scrolled": true
   },
   "outputs": [
    {
     "data": {
      "text/plain": [
       "(19345, 9)"
      ]
     },
     "execution_count": 1072,
     "metadata": {},
     "output_type": "execute_result"
    }
   ],
   "source": [
    "great = df[df.sentiment.str.contains(\"neutral\")]\n",
    "great.shape"
   ]
  },
  {
   "cell_type": "code",
   "execution_count": 1073,
   "metadata": {},
   "outputs": [
    {
     "data": {
      "text/html": [
       "<div>\n",
       "<style scoped>\n",
       "    .dataframe tbody tr th:only-of-type {\n",
       "        vertical-align: middle;\n",
       "    }\n",
       "\n",
       "    .dataframe tbody tr th {\n",
       "        vertical-align: top;\n",
       "    }\n",
       "\n",
       "    .dataframe thead th {\n",
       "        text-align: right;\n",
       "    }\n",
       "</style>\n",
       "<table border=\"1\" class=\"dataframe\">\n",
       "  <thead>\n",
       "    <tr style=\"text-align: right;\">\n",
       "      <th></th>\n",
       "      <th>Reply</th>\n",
       "      <th>Upvote</th>\n",
       "      <th>Time</th>\n",
       "      <th>Key</th>\n",
       "      <th>neg</th>\n",
       "      <th>neu</th>\n",
       "      <th>pos</th>\n",
       "      <th>compound</th>\n",
       "      <th>sentiment</th>\n",
       "    </tr>\n",
       "  </thead>\n",
       "  <tbody>\n",
       "    <tr>\n",
       "      <th>6</th>\n",
       "      <td>Remember when people compared Hazard to Ozil a...</td>\n",
       "      <td>60.0</td>\n",
       "      <td>2019-05-30 09:25:03</td>\n",
       "      <td>1.0</td>\n",
       "      <td>0.000</td>\n",
       "      <td>0.818</td>\n",
       "      <td>0.182</td>\n",
       "      <td>0.4404</td>\n",
       "      <td>neutral</td>\n",
       "    </tr>\n",
       "    <tr>\n",
       "      <th>20</th>\n",
       "      <td>First trophy in Chelsea wa EL last trophy also...</td>\n",
       "      <td>6.0</td>\n",
       "      <td>2019-05-30 09:24:43</td>\n",
       "      <td>1.0</td>\n",
       "      <td>0.000</td>\n",
       "      <td>0.800</td>\n",
       "      <td>0.200</td>\n",
       "      <td>0.4588</td>\n",
       "      <td>neutral</td>\n",
       "    </tr>\n",
       "    <tr>\n",
       "      <th>24</th>\n",
       "      <td>I wish there wa a way to know youre in the goo...</td>\n",
       "      <td>5.0</td>\n",
       "      <td>2019-05-30 10:20:11</td>\n",
       "      <td>1.0</td>\n",
       "      <td>0.000</td>\n",
       "      <td>0.728</td>\n",
       "      <td>0.272</td>\n",
       "      <td>0.6808</td>\n",
       "      <td>neutral</td>\n",
       "    </tr>\n",
       "    <tr>\n",
       "      <th>29</th>\n",
       "      <td>As a belgian Im so proud of this guy he doesnt...</td>\n",
       "      <td>5.0</td>\n",
       "      <td>2019-05-30 12:16:52</td>\n",
       "      <td>1.0</td>\n",
       "      <td>0.057</td>\n",
       "      <td>0.621</td>\n",
       "      <td>0.322</td>\n",
       "      <td>0.9859</td>\n",
       "      <td>neutral</td>\n",
       "    </tr>\n",
       "    <tr>\n",
       "      <th>30</th>\n",
       "      <td>Beating Arsenal down one last time on his way ...</td>\n",
       "      <td>3.0</td>\n",
       "      <td>2019-05-30 09:25:23</td>\n",
       "      <td>1.0</td>\n",
       "      <td>0.231</td>\n",
       "      <td>0.769</td>\n",
       "      <td>0.000</td>\n",
       "      <td>-0.4588</td>\n",
       "      <td>neutral</td>\n",
       "    </tr>\n",
       "    <tr>\n",
       "      <th>...</th>\n",
       "      <td>...</td>\n",
       "      <td>...</td>\n",
       "      <td>...</td>\n",
       "      <td>...</td>\n",
       "      <td>...</td>\n",
       "      <td>...</td>\n",
       "      <td>...</td>\n",
       "      <td>...</td>\n",
       "      <td>...</td>\n",
       "    </tr>\n",
       "    <tr>\n",
       "      <th>48683</th>\n",
       "      <td>These really arent my view at all What company...</td>\n",
       "      <td>0.0</td>\n",
       "      <td>2020-05-30 05:14:28</td>\n",
       "      <td>499.0</td>\n",
       "      <td>0.000</td>\n",
       "      <td>0.959</td>\n",
       "      <td>0.041</td>\n",
       "      <td>0.2778</td>\n",
       "      <td>neutral</td>\n",
       "    </tr>\n",
       "    <tr>\n",
       "      <th>48691</th>\n",
       "      <td>You make a good point about the difference bet...</td>\n",
       "      <td>1.0</td>\n",
       "      <td>2020-05-30 10:26:22</td>\n",
       "      <td>499.0</td>\n",
       "      <td>0.024</td>\n",
       "      <td>0.768</td>\n",
       "      <td>0.208</td>\n",
       "      <td>0.9883</td>\n",
       "      <td>neutral</td>\n",
       "    </tr>\n",
       "    <tr>\n",
       "      <th>48693</th>\n",
       "      <td>Those are official account with social medium ...</td>\n",
       "      <td>0.0</td>\n",
       "      <td>2020-05-30 05:59:14</td>\n",
       "      <td>499.0</td>\n",
       "      <td>0.059</td>\n",
       "      <td>0.780</td>\n",
       "      <td>0.161</td>\n",
       "      <td>0.7876</td>\n",
       "      <td>neutral</td>\n",
       "    </tr>\n",
       "    <tr>\n",
       "      <th>48694</th>\n",
       "      <td>Id expect them to keep it internal tbh If Im t...</td>\n",
       "      <td>1.0</td>\n",
       "      <td>2020-05-30 05:36:42</td>\n",
       "      <td>499.0</td>\n",
       "      <td>0.093</td>\n",
       "      <td>0.907</td>\n",
       "      <td>0.000</td>\n",
       "      <td>-0.3818</td>\n",
       "      <td>neutral</td>\n",
       "    </tr>\n",
       "    <tr>\n",
       "      <th>48696</th>\n",
       "      <td>Xenophobic whatever you want to call itIm sure...</td>\n",
       "      <td>2.0</td>\n",
       "      <td>2020-05-30 22:59:09</td>\n",
       "      <td>499.0</td>\n",
       "      <td>0.087</td>\n",
       "      <td>0.802</td>\n",
       "      <td>0.111</td>\n",
       "      <td>-0.1531</td>\n",
       "      <td>neutral</td>\n",
       "    </tr>\n",
       "  </tbody>\n",
       "</table>\n",
       "<p>11273 rows × 9 columns</p>\n",
       "</div>"
      ],
      "text/plain": [
       "                                                   Reply  Upvote  \\\n",
       "6      Remember when people compared Hazard to Ozil a...    60.0   \n",
       "20     First trophy in Chelsea wa EL last trophy also...     6.0   \n",
       "24     I wish there wa a way to know youre in the goo...     5.0   \n",
       "29     As a belgian Im so proud of this guy he doesnt...     5.0   \n",
       "30     Beating Arsenal down one last time on his way ...     3.0   \n",
       "...                                                  ...     ...   \n",
       "48683  These really arent my view at all What company...     0.0   \n",
       "48691  You make a good point about the difference bet...     1.0   \n",
       "48693  Those are official account with social medium ...     0.0   \n",
       "48694  Id expect them to keep it internal tbh If Im t...     1.0   \n",
       "48696  Xenophobic whatever you want to call itIm sure...     2.0   \n",
       "\n",
       "                      Time    Key    neg    neu    pos  compound sentiment  \n",
       "6      2019-05-30 09:25:03    1.0  0.000  0.818  0.182    0.4404   neutral  \n",
       "20     2019-05-30 09:24:43    1.0  0.000  0.800  0.200    0.4588   neutral  \n",
       "24     2019-05-30 10:20:11    1.0  0.000  0.728  0.272    0.6808   neutral  \n",
       "29     2019-05-30 12:16:52    1.0  0.057  0.621  0.322    0.9859   neutral  \n",
       "30     2019-05-30 09:25:23    1.0  0.231  0.769  0.000   -0.4588   neutral  \n",
       "...                    ...    ...    ...    ...    ...       ...       ...  \n",
       "48683  2020-05-30 05:14:28  499.0  0.000  0.959  0.041    0.2778   neutral  \n",
       "48691  2020-05-30 10:26:22  499.0  0.024  0.768  0.208    0.9883   neutral  \n",
       "48693  2020-05-30 05:59:14  499.0  0.059  0.780  0.161    0.7876   neutral  \n",
       "48694  2020-05-30 05:36:42  499.0  0.093  0.907  0.000   -0.3818   neutral  \n",
       "48696  2020-05-30 22:59:09  499.0  0.087  0.802  0.111   -0.1531   neutral  \n",
       "\n",
       "[11273 rows x 9 columns]"
      ]
     },
     "execution_count": 1073,
     "metadata": {},
     "output_type": "execute_result"
    }
   ],
   "source": [
    "neu = df[df.sentiment.str.contains(\"neutral\")].loc[df['compound'] != 0.0]\n",
    "neu"
   ]
  },
  {
   "cell_type": "code",
   "execution_count": 1074,
   "metadata": {},
   "outputs": [
    {
     "data": {
      "text/plain": [
       "0.41726544326699405"
      ]
     },
     "execution_count": 1074,
     "metadata": {},
     "output_type": "execute_result"
    }
   ],
   "source": [
    "neu_acc = (great.shape[0]-neu.shape[0])/great.shape[0]\n",
    "neu_acc"
   ]
  }
 ],
 "metadata": {
  "kernelspec": {
   "display_name": "Python 3",
   "language": "python",
   "name": "python3"
  },
  "language_info": {
   "codemirror_mode": {
    "name": "ipython",
    "version": 3
   },
   "file_extension": ".py",
   "mimetype": "text/x-python",
   "name": "python",
   "nbconvert_exporter": "python",
   "pygments_lexer": "ipython3",
   "version": "3.7.6"
  }
 },
 "nbformat": 4,
 "nbformat_minor": 4
}
